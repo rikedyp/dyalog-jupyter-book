{
 "cells": [
  {
   "cell_type": "markdown",
   "id": "ebfd47df",
   "metadata": {},
   "source": [
    "# Welcome\n",
    "\n",
    "Each file _must_ start with a H1, that is a markdown heading with a single `#`. Subsequent subsections must be consecutive.\n",
    "\n",
    "## Subsection\n",
    "\n",
    "...like so. And here's a sub-sub section:\n",
    "\n",
    "### Sub-Sub\n",
    "\n",
    "You get the idea.\n",
    "\n",
    "## Building\n",
    "\n",
    "You need a running, recent Python installation, the `jupyter` and `jupyter-book` packages. Installing Python in a sustainable way is a bit of an artform. _Please_ don't use `conda`. Just... don't. You want [pyenv](https://github.com/pyenv/pyenv) which manages multiple Python versions.\n",
    "\n",
    "Use `pyenv` to install a recent version of Python, e.g \n",
    "\n",
    "    % pyenv install 3.10.4\n",
    "    \n",
    "In your directory which holds your jupyterbooks, create a new local python environment with `pyenv`:\n",
    "\n",
    "    % cd path/to/jupyterbooks; pyenv local 3.10.4\n",
    "    \n",
    "Now install the jupyter stuff\n",
    "\n",
    "    % pip install jupyter\n",
    "    % pip install jupyter-book\n",
    "    \n",
    "If you intend to publish your book on GitHub Pages, you also need\n",
    "\n",
    "    % pip install ghp-import\n",
    "    \n",
    "Note: you didn't go `conda` because of something you read on the internet, did you? Good. You'll thank me later.\n",
    "\n",
    "If all that went to plan, you should now be able to build your jupyter-book using the command \n",
    "\n",
    "    % jupyter-book build contents\n",
    "    \n",
    "If that goes well, you should get a `file://` url pop out, like so\n",
    "\n",
    "    file:///Users/stefan/work/notebooks/jupyter-book-template/contents/_build/html/index.html\n",
    "    \n",
    "Pop that into your browser. \n",
    "\n",
    "Commit your changes. If you want to publish on GHP, run something like\n",
    "\n",
    "    % ghp-import -r github -n -p -f contents/_build/html\n",
    "\n"
   ]
  },
  {
   "cell_type": "code",
   "execution_count": null,
   "id": "0c796cc8",
   "metadata": {},
   "outputs": [],
   "source": []
  }
 ],
 "metadata": {
  "kernelspec": {
   "display_name": "Dyalog APL",
   "language": "apl",
   "name": "dyalog-kernel"
  },
  "language_info": {
   "file_extension": ".apl",
   "mimetype": "text/apl",
   "name": "APL"
  }
 },
 "nbformat": 4,
 "nbformat_minor": 5
}
