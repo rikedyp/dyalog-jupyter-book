{
 "cells": [
  {
   "cell_type": "markdown",
   "id": "75ab032c",
   "metadata": {},
   "source": [
    "# How to do APL\n",
    "\n",
    "You can run code in a cell by just typing it in:"
   ]
  },
  {
   "cell_type": "code",
   "execution_count": 1,
   "id": "2b06464f",
   "metadata": {
    "vscode": {
     "languageId": "apl"
    }
   },
   "outputs": [
    {
     "data": {
      "text/html": [
       "<pre class=\"language-APL\">ABCDEFGHIJKLMNOPQRSTUVWXYZ\n",
       "</pre>"
      ]
     },
     "execution_count": 1,
     "metadata": {},
     "output_type": "execute_result"
    }
   ],
   "source": [
    "⎕A"
   ]
  },
  {
   "cell_type": "code",
   "execution_count": 3,
   "id": "19ee316a",
   "metadata": {
    "vscode": {
     "languageId": "apl"
    }
   },
   "outputs": [
    {
     "data": {
      "text/html": [
       "<pre class=\"language-APL\">1 2 3 4 5 6 7 8 9 10\n",
       "</pre>"
      ]
     },
     "execution_count": 3,
     "metadata": {},
     "output_type": "execute_result"
    },
    {
     "data": {
      "text/html": [
       "<pre class=\"language-APL\">55\n",
       "</pre>"
      ]
     },
     "execution_count": 3,
     "metadata": {},
     "output_type": "execute_result"
    }
   ],
   "source": [
    "⊢a ← ⍳11\n",
    "+/a"
   ]
  },
  {
   "cell_type": "markdown",
   "id": "328e530f",
   "metadata": {},
   "source": [
    "## Multi-line dfns\n",
    "\n",
    "Multi-line dfns need `]dinput`:"
   ]
  },
  {
   "cell_type": "code",
   "execution_count": 6,
   "id": "b9ee2a6b",
   "metadata": {
    "vscode": {
     "languageId": "apl"
    }
   },
   "outputs": [],
   "source": [
    "]dinput\n",
    "add ← {\n",
    "    a←⍺+⍵\n",
    "    a\n",
    "}"
   ]
  },
  {
   "cell_type": "code",
   "execution_count": 7,
   "id": "4c14f4e3",
   "metadata": {
    "vscode": {
     "languageId": "apl"
    }
   },
   "outputs": [
    {
     "data": {
      "text/html": [
       "<pre class=\"language-APL\">132\n",
       "</pre>"
      ]
     },
     "execution_count": 7,
     "metadata": {},
     "output_type": "execute_result"
    }
   ],
   "source": [
    "34 add 98"
   ]
  },
  {
   "cell_type": "markdown",
   "id": "d8d80971",
   "metadata": {},
   "source": [
    "## Tradfns\n",
    "Tradfns don't need `]dinput`:"
   ]
  },
  {
   "cell_type": "code",
   "execution_count": 8,
   "id": "9bdf27e0",
   "metadata": {
    "vscode": {
     "languageId": "apl"
    }
   },
   "outputs": [],
   "source": [
    "∇ r←f arg;a\n",
    "  a ← +/arg\n",
    "  r ← a\n",
    "∇"
   ]
  },
  {
   "cell_type": "code",
   "execution_count": 9,
   "id": "da778fbc",
   "metadata": {
    "vscode": {
     "languageId": "apl"
    }
   },
   "outputs": [
    {
     "data": {
      "text/html": [
       "<pre class=\"language-APL\">55\n",
       "</pre>"
      ]
     },
     "execution_count": 9,
     "metadata": {},
     "output_type": "execute_result"
    }
   ],
   "source": [
    "f⍳10"
   ]
  },
  {
   "cell_type": "code",
   "execution_count": null,
   "id": "8a27cdfc",
   "metadata": {
    "vscode": {
     "languageId": "apl"
    }
   },
   "outputs": [],
   "source": []
  }
 ],
 "metadata": {
  "kernelspec": {
   "display_name": "Dyalog APL",
   "language": "apl",
   "name": "dyalog_apl"
  },
  "language_info": {
   "file_extension": ".apl",
   "mimetype": "text/apl",
   "name": "APL"
  }
 },
 "nbformat": 4,
 "nbformat_minor": 5
}
